{
 "cells": [
  {
   "cell_type": "code",
   "execution_count": 85,
   "metadata": {},
   "outputs": [],
   "source": [
    "# importing necessary packages\n",
    "import pandas as pd\n",
    "from sklearn.model_selection import train_test_split\n",
    "from xgboost import XGBRegressor\n",
    "import sklearn.metrics as m"
   ]
  },
  {
   "cell_type": "code",
   "execution_count": 86,
   "metadata": {},
   "outputs": [],
   "source": [
    "# Loading the data\n",
    "data = pd.read_csv('train.csv')\n",
    "data.dropna(axis=0, subset=['SalePrice'], inplace=True)"
   ]
  },
  {
   "cell_type": "code",
   "execution_count": 87,
   "metadata": {},
   "outputs": [],
   "source": [
    "y = data.SalePrice\n",
    "X = data.drop(['SalePrice'], axis=1).select_dtypes(exclude=['object'])\n"
   ]
  },
  {
   "cell_type": "code",
   "execution_count": 88,
   "metadata": {},
   "outputs": [],
   "source": [
    "#splitting the data into train and test\n",
    "seed = 1\n",
    "test_size = 0.33\n",
    "X_train, X_test, Y_train, Y_test = train_test_split(X, y, test_size = test_size, random_state = seed )"
   ]
  },
  {
   "cell_type": "code",
   "execution_count": 106,
   "metadata": {},
   "outputs": [
    {
     "name": "stdout",
     "output_type": "stream",
     "text": [
      "[0]\tvalidation_0-rmse:190054.62500\n",
      "[1]\tvalidation_0-rmse:181302.50000\n",
      "[2]\tvalidation_0-rmse:172876.10938\n",
      "[3]\tvalidation_0-rmse:164988.67188\n",
      "[4]\tvalidation_0-rmse:157356.17188\n",
      "[5]\tvalidation_0-rmse:150252.48438\n",
      "[6]\tvalidation_0-rmse:143429.39062\n",
      "[7]\tvalidation_0-rmse:137224.43750\n",
      "[8]\tvalidation_0-rmse:131093.12500\n",
      "[9]\tvalidation_0-rmse:125302.15625\n",
      "[10]\tvalidation_0-rmse:119891.56250\n",
      "[11]\tvalidation_0-rmse:114624.86719\n",
      "[12]\tvalidation_0-rmse:109803.81250\n",
      "[13]\tvalidation_0-rmse:105158.89062\n",
      "[14]\tvalidation_0-rmse:100766.91406\n",
      "[15]\tvalidation_0-rmse:96603.71094\n",
      "[16]\tvalidation_0-rmse:92639.17188\n",
      "[17]\tvalidation_0-rmse:89129.86719\n",
      "[18]\tvalidation_0-rmse:85704.99219\n",
      "[19]\tvalidation_0-rmse:82480.90625\n",
      "[20]\tvalidation_0-rmse:79435.83594\n",
      "[21]\tvalidation_0-rmse:76491.89062\n",
      "[22]\tvalidation_0-rmse:73628.67188\n",
      "[23]\tvalidation_0-rmse:70836.19531\n",
      "[24]\tvalidation_0-rmse:68453.98438\n",
      "[25]\tvalidation_0-rmse:66005.57812\n",
      "[26]\tvalidation_0-rmse:63747.47266\n",
      "[27]\tvalidation_0-rmse:61648.22656\n",
      "[28]\tvalidation_0-rmse:59707.26172\n",
      "[29]\tvalidation_0-rmse:57790.75391\n",
      "[30]\tvalidation_0-rmse:56052.08594\n",
      "[31]\tvalidation_0-rmse:54420.83203\n",
      "[32]\tvalidation_0-rmse:52838.21875\n",
      "[33]\tvalidation_0-rmse:51439.66016\n",
      "[34]\tvalidation_0-rmse:50104.91016\n",
      "[35]\tvalidation_0-rmse:48826.22266\n",
      "[36]\tvalidation_0-rmse:47628.42188\n",
      "[37]\tvalidation_0-rmse:46404.35156\n",
      "[38]\tvalidation_0-rmse:45361.23047\n",
      "[39]\tvalidation_0-rmse:44329.74219\n",
      "[40]\tvalidation_0-rmse:43400.18750\n",
      "[41]\tvalidation_0-rmse:42488.49219\n",
      "[42]\tvalidation_0-rmse:41645.43359\n",
      "[43]\tvalidation_0-rmse:40828.60156\n",
      "[44]\tvalidation_0-rmse:40214.80078\n",
      "[45]\tvalidation_0-rmse:39606.46094\n",
      "[46]\tvalidation_0-rmse:39067.53906\n",
      "[47]\tvalidation_0-rmse:38631.28516\n",
      "[48]\tvalidation_0-rmse:38165.67188\n",
      "[49]\tvalidation_0-rmse:37722.86328\n",
      "[50]\tvalidation_0-rmse:37289.46484\n",
      "[51]\tvalidation_0-rmse:36929.81250\n",
      "[52]\tvalidation_0-rmse:36468.10156\n",
      "[53]\tvalidation_0-rmse:36111.57031\n",
      "[54]\tvalidation_0-rmse:35857.85547\n",
      "[55]\tvalidation_0-rmse:35468.49609\n",
      "[56]\tvalidation_0-rmse:35198.45312\n",
      "[57]\tvalidation_0-rmse:34965.08203\n",
      "[58]\tvalidation_0-rmse:34757.33984\n",
      "[59]\tvalidation_0-rmse:34536.25781\n",
      "[60]\tvalidation_0-rmse:34296.48828\n",
      "[61]\tvalidation_0-rmse:34104.17969\n",
      "[62]\tvalidation_0-rmse:33935.13672\n",
      "[63]\tvalidation_0-rmse:33762.58984\n",
      "[64]\tvalidation_0-rmse:33613.62891\n",
      "[65]\tvalidation_0-rmse:33396.66016\n",
      "[66]\tvalidation_0-rmse:33201.38672\n",
      "[67]\tvalidation_0-rmse:33013.40234\n",
      "[68]\tvalidation_0-rmse:32853.12500\n",
      "[69]\tvalidation_0-rmse:32664.81445\n",
      "[70]\tvalidation_0-rmse:32506.74609\n",
      "[71]\tvalidation_0-rmse:32348.89258\n",
      "[72]\tvalidation_0-rmse:32195.78125\n",
      "[73]\tvalidation_0-rmse:32044.25000\n",
      "[74]\tvalidation_0-rmse:31904.15820\n",
      "[75]\tvalidation_0-rmse:31777.58398\n",
      "[76]\tvalidation_0-rmse:31651.87891\n",
      "[77]\tvalidation_0-rmse:31530.06250\n",
      "[78]\tvalidation_0-rmse:31422.46680\n",
      "[79]\tvalidation_0-rmse:31305.36328\n",
      "[80]\tvalidation_0-rmse:31209.53320\n",
      "[81]\tvalidation_0-rmse:31121.84180\n",
      "[82]\tvalidation_0-rmse:31041.20703\n",
      "[83]\tvalidation_0-rmse:30962.77344\n",
      "[84]\tvalidation_0-rmse:30895.33789\n",
      "[85]\tvalidation_0-rmse:30815.62500\n",
      "[86]\tvalidation_0-rmse:30758.66992\n",
      "[87]\tvalidation_0-rmse:30704.81836\n",
      "[88]\tvalidation_0-rmse:30641.15234\n",
      "[89]\tvalidation_0-rmse:30580.03711\n",
      "[90]\tvalidation_0-rmse:30529.05078\n",
      "[91]\tvalidation_0-rmse:30475.79688\n",
      "[92]\tvalidation_0-rmse:30425.67773\n",
      "[93]\tvalidation_0-rmse:30376.59375\n",
      "[94]\tvalidation_0-rmse:30322.69141\n",
      "[95]\tvalidation_0-rmse:30277.14062\n",
      "[96]\tvalidation_0-rmse:30234.29297\n",
      "[97]\tvalidation_0-rmse:30183.73047\n",
      "[98]\tvalidation_0-rmse:30142.66406\n",
      "[99]\tvalidation_0-rmse:30108.45703\n",
      "[100]\tvalidation_0-rmse:30070.34375\n",
      "[101]\tvalidation_0-rmse:30036.35938\n",
      "[102]\tvalidation_0-rmse:30000.20898\n",
      "[103]\tvalidation_0-rmse:29964.08203\n",
      "[104]\tvalidation_0-rmse:29929.02344\n",
      "[105]\tvalidation_0-rmse:29906.22266\n",
      "[106]\tvalidation_0-rmse:29876.18359\n",
      "[107]\tvalidation_0-rmse:29850.31445\n",
      "[108]\tvalidation_0-rmse:29823.74609\n",
      "[109]\tvalidation_0-rmse:29794.71484\n",
      "[110]\tvalidation_0-rmse:29777.85742\n",
      "[111]\tvalidation_0-rmse:29756.32422\n",
      "[112]\tvalidation_0-rmse:29736.61719\n",
      "[113]\tvalidation_0-rmse:29710.03711\n",
      "[114]\tvalidation_0-rmse:29683.39648\n",
      "[115]\tvalidation_0-rmse:29666.42578\n",
      "[116]\tvalidation_0-rmse:29647.56641\n",
      "[117]\tvalidation_0-rmse:29631.49414\n",
      "[118]\tvalidation_0-rmse:29621.84570\n",
      "[119]\tvalidation_0-rmse:29607.29883\n",
      "[120]\tvalidation_0-rmse:29606.57422\n",
      "[121]\tvalidation_0-rmse:29591.87305\n",
      "[122]\tvalidation_0-rmse:29574.59375\n",
      "[123]\tvalidation_0-rmse:29572.13867\n",
      "[124]\tvalidation_0-rmse:29569.34961\n",
      "[125]\tvalidation_0-rmse:29568.26172\n",
      "[126]\tvalidation_0-rmse:29557.74023\n",
      "[127]\tvalidation_0-rmse:29567.40430\n",
      "[128]\tvalidation_0-rmse:29563.91016\n",
      "[129]\tvalidation_0-rmse:29564.73633\n",
      "[130]\tvalidation_0-rmse:29568.88867\n",
      "[131]\tvalidation_0-rmse:29568.70117\n"
     ]
    },
    {
     "data": {
      "text/plain": [
       "XGBRegressor(base_score=0.5, booster='gbtree', colsample_bylevel=1,\n",
       "             colsample_bynode=1, colsample_bytree=1, gamma=0, gpu_id=-1,\n",
       "             importance_type='gain', interaction_constraints='',\n",
       "             learning_rate=0.05, max_delta_step=0, max_depth=6,\n",
       "             min_child_weight=1, missing=nan, monotone_constraints='()',\n",
       "             n_estimators=1000, n_jobs=8, num_parallel_tree=1, random_state=0,\n",
       "             reg_alpha=0, reg_lambda=1, scale_pos_weight=1, subsample=1,\n",
       "             tree_method='exact', validate_parameters=1, verbosity=None)"
      ]
     },
     "execution_count": 106,
     "metadata": {},
     "output_type": "execute_result"
    }
   ],
   "source": [
    "# fit the model on training data\n",
    "model = XGBRegressor(n_estimators = 1000, learning_rate=0.05)\n",
    "model.fit(X_train, Y_train, early_stopping_rounds = 5, eval_set=[(X_test, Y_test)])"
   ]
  },
  {
   "cell_type": "code",
   "execution_count": 107,
   "metadata": {},
   "outputs": [
    {
     "name": "stdout",
     "output_type": "stream",
     "text": [
      "XGBRegressor(base_score=0.5, booster='gbtree', colsample_bylevel=1,\n",
      "             colsample_bynode=1, colsample_bytree=1, gamma=0, gpu_id=-1,\n",
      "             importance_type='gain', interaction_constraints='',\n",
      "             learning_rate=0.05, max_delta_step=0, max_depth=6,\n",
      "             min_child_weight=1, missing=nan, monotone_constraints='()',\n",
      "             n_estimators=1000, n_jobs=8, num_parallel_tree=1, random_state=0,\n",
      "             reg_alpha=0, reg_lambda=1, scale_pos_weight=1, subsample=1,\n",
      "             tree_method='exact', validate_parameters=1, verbosity=None)\n"
     ]
    }
   ],
   "source": [
    "#printing the model\n",
    "print(model)"
   ]
  },
  {
   "cell_type": "code",
   "execution_count": 108,
   "metadata": {},
   "outputs": [],
   "source": [
    "# make predictions\n",
    "predictions = model.predict(X_test)"
   ]
  },
  {
   "cell_type": "code",
   "execution_count": 109,
   "metadata": {},
   "outputs": [
    {
     "data": {
      "text/plain": [
       "17401.95840897303"
      ]
     },
     "execution_count": 109,
     "metadata": {},
     "output_type": "execute_result"
    }
   ],
   "source": [
    "#evaluate predictions\n",
    "m.mean_absolute_error(predictions, Y_test)"
   ]
  },
  {
   "cell_type": "code",
   "execution_count": null,
   "metadata": {},
   "outputs": [],
   "source": []
  }
 ],
 "metadata": {
  "kernelspec": {
   "display_name": "Python 3",
   "language": "python",
   "name": "python3"
  },
  "language_info": {
   "codemirror_mode": {
    "name": "ipython",
    "version": 3
   },
   "file_extension": ".py",
   "mimetype": "text/x-python",
   "name": "python",
   "nbconvert_exporter": "python",
   "pygments_lexer": "ipython3",
   "version": "3.8.0"
  }
 },
 "nbformat": 4,
 "nbformat_minor": 4
}
